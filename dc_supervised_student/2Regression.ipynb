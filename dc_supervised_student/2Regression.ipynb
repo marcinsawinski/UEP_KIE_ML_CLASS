{
 "cells": [
  {
   "cell_type": "markdown",
   "id": "85123561",
   "metadata": {},
   "source": [
    "# Regression\n",
    "\n",
    "In this chapter, you will be introduced to regression, and build models to predict sales values using a dataset on advertising expenditure. You will learn about the mechanics of linear regression and common performance metrics such as R-squared and root mean squared error. You will perform k-fold cross-validation, and apply regularization to regression models to reduce the risk of overfitting."
   ]
  },
  {
   "cell_type": "markdown",
   "id": "4dca97e3",
   "metadata": {},
   "source": [
    "## Creating features\n",
    "\n",
    "In this chapter, you will work with a dataset called sales_df, which contains information on advertising campaign expenditure across different media types, and the number of dollars generated in sales for the respective campaign. The dataset has been preloaded for you. Here are the first two rows:\n",
    "\n",
    "|   | tv      | radio    | social_media | sales     |\n",
    "|---|---------|----------|--------------|-----------|\n",
    "| 1 | 13000.0 | 9237.76  | 2409.57      | 46677.90  |\n",
    "| 2 | 41000.0 | 15886.45 | 2913.41      | 150177.83 |\n",
    "\n",
    "You will use the advertising expenditure as features to predict sales values, initially working with the \"radio\" column. However, before you make any predictions you will need to create the feature and target arrays, reshaping them to the correct format for scikit-learn.\n",
    "\n",
    "### Instructions\n",
    " - Create X, an array of the values from the sales_df DataFrame's \"radio\" column.\n",
    " - Create y, an array of the values from the sales_df DataFrame's \"sales\" column.\n",
    " - Reshape X into a two-dimensional NumPy array.\n",
    " - Print the shape of X and y."
   ]
  },
  {
   "cell_type": "code",
   "execution_count": 13,
   "id": "795b4d2a",
   "metadata": {},
   "outputs": [
    {
     "name": "stdout",
     "output_type": "stream",
     "text": [
      "<class 'pandas.core.frame.DataFrame'>\n",
      "RangeIndex: 4546 entries, 0 to 4545\n",
      "Data columns (total 4 columns):\n",
      " #   Column        Non-Null Count  Dtype  \n",
      "---  ------        --------------  -----  \n",
      " 0   tv            4546 non-null   float64\n",
      " 1   radio         4546 non-null   float64\n",
      " 2   social_media  4546 non-null   float64\n",
      " 3   sales         4546 non-null   float64\n",
      "dtypes: float64(4)\n",
      "memory usage: 142.2 KB\n"
     ]
    }
   ],
   "source": [
    "import pandas as pd\n",
    "\n",
    "sales_df = pd.read_csv(\"datasets/advertising_and_sales_clean.csv\").drop(columns=[\"influencer\"])\n",
    "sales_df.info()"
   ]
  },
  {
   "cell_type": "code",
   "execution_count": null,
   "id": "8e738295",
   "metadata": {},
   "outputs": [],
   "source": [
    "import numpy as np\n",
    "\n",
    "# Create X from the radio column's values\n",
    "X = ____\n",
    "\n",
    "# Create y from the sales column's values\n",
    "y = ____\n",
    "\n",
    "# Reshape X\n",
    "X = ____\n",
    "\n",
    "# Check the shape of the features and targets\n",
    "print(____)"
   ]
  },
  {
   "cell_type": "markdown",
   "id": "f7ac4363",
   "metadata": {},
   "source": [
    "## Building a linear regression model\n",
    "Now you have created your feature and target arrays, you will train a linear regression model on all feature and target values.\n",
    "\n",
    "As the goal is to assess the relationship between the feature and target values there is no need to split the data into training and test sets.\n",
    "\n",
    "X and y have been preloaded for you as follows:\n",
    "```\n",
    "y = sales_df[\"sales\"].values\n",
    "X = sales_df[\"radio\"].values.reshape(-1, 1)\n",
    "```\n",
    "\n",
    "### Instructions\n",
    " - Import LinearRegression.\n",
    " - Instantiate a linear regression model.\n",
    " - Predict sales values using X, storing as predictions."
   ]
  },
  {
   "cell_type": "code",
   "execution_count": null,
   "id": "9de7cf2a",
   "metadata": {},
   "outputs": [],
   "source": [
    "# Import LinearRegression\n",
    "from ____.____ import ____\n",
    "\n",
    "# Create the model\n",
    "reg = ____()\n",
    "\n",
    "# Fit the model to the data\n",
    "____\n",
    "\n",
    "# Make predictions\n",
    "predictions = ____\n",
    "\n",
    "print(predictions[:5])"
   ]
  },
  {
   "cell_type": "markdown",
   "id": "f1edf609",
   "metadata": {},
   "source": [
    "## Visualizing a linear regression model\n",
    "Now you have built your linear regression model and trained it using all available observations, you can visualize how well the model fits the data. This allows you to interpret the relationship between radio advertising expenditure and sales values.\n",
    "\n",
    "The variables X, an array of radio values, y, an array of sales values, and predictions, an array of the model's predicted values for y given X, have all been preloaded for you from the previous exercise.\n",
    "\n",
    "# Instructions\n",
    " - Import matplotlib.pyplot as plt.\n",
    " - Create a scatter plot visualizing y against X, with  - observations in blue.\n",
    " - Draw a red line plot displaying the predictions against X.\n",
    " - Display the plot."
   ]
  },
  {
   "cell_type": "code",
   "execution_count": null,
   "id": "0a95a097",
   "metadata": {},
   "outputs": [],
   "source": [
    "# Import matplotlib.pyplot\n",
    "import ____.____ as ____\n",
    "\n",
    "# Create scatter plot\n",
    "plt.scatter(____, ____, color=\"____\")\n",
    "\n",
    "# Create line plot\n",
    "plt.plot(____, ____, color=\"____\")\n",
    "plt.xlabel(\"Radio Expenditure ($)\")\n",
    "plt.ylabel(\"Sales ($)\")\n",
    "\n",
    "# Display the plot\n",
    "plt.____()"
   ]
  },
  {
   "cell_type": "markdown",
   "id": "2ed19368",
   "metadata": {},
   "source": [
    "## Fit and predict for regression\n",
    "\n",
    "Now you have seen how linear regression works, your task is to create a multiple linear regression model using all of the features in the sales_df dataset, which has been preloaded for you. As a reminder, here are the first two rows:\n",
    "\n",
    "|   | tv      | radio    | social_media | sales     |\n",
    "|---|---------|----------|--------------|-----------|\n",
    "| 1 | 13000.0 | 9237.76  | 2409.57      | 46677.90  |\n",
    "| 2 | 41000.0 | 15886.45 | 2913.41      | 150177.83 |\n",
    "\n",
    "You will then use this model to predict sales based on the values of the test features.\n",
    "\n",
    "LinearRegression and train_test_split have been preloaded for you from their respective modules.\n",
    "\n",
    "### Instructions\n",
    " - Create X, an array containing values of all features in sales_df, and y, containing all values from the \"sales\" column.\n",
    " - Instantiate a linear regression model.\n",
    " - Fit the model to the training data.\n",
    " - Create y_pred, making predictions for sales using the test features."
   ]
  },
  {
   "cell_type": "code",
   "execution_count": 6,
   "id": "96dba465",
   "metadata": {},
   "outputs": [],
   "source": [
    "from sklearn.model_selection import train_test_split"
   ]
  },
  {
   "cell_type": "code",
   "execution_count": null,
   "id": "43ca8560",
   "metadata": {},
   "outputs": [],
   "source": [
    "# Create X and y arrays\n",
    "X = sales_df.____(\"____\", axis=____).____\n",
    "y = sales_df[\"____\"].____\n",
    "\n",
    "X_train, X_test, y_train, y_test = train_test_split(X, y, test_size=0.3, random_state=42)\n",
    "\n",
    "# Instantiate the model\n",
    "reg = ____\n",
    "\n",
    "# Fit the model to the data\n",
    "____\n",
    "\n",
    "# Make predictions\n",
    "y_pred = reg.____(____)\n",
    "print(\"Predictions: {}, Actual Values: {}\".format(y_pred[:2], y_test[:2]))"
   ]
  },
  {
   "cell_type": "markdown",
   "id": "2ae2ba6c",
   "metadata": {},
   "source": [
    "## Regression performance\n",
    "Now you have fit a model, reg, using all features from sales_df, and made predictions of sales values, you can evaluate performance using some common regression metrics.\n",
    "\n",
    "The variables X_train, X_test, y_train, y_test, and y_pred, along with the fitted model, reg, all from the last exercise, have been preloaded for you.\n",
    "\n",
    "Your task is to find out how well the features can explain the variance in the target values, along with assessing the model's ability to make predictions on unseen data.\n",
    "\n",
    "\n",
    "### Instructions\n",
    " - Import root_mean_squared_error.\n",
    " - Calculate the model's R-squared score by passing the test feature values and the test target values to an appropriate method.\n",
    " - Calculate the model's root mean squared error using y_test and y_pred.\n",
    " - Print r_squared and rmse."
   ]
  },
  {
   "cell_type": "code",
   "execution_count": null,
   "id": "d4c4dc8c",
   "metadata": {},
   "outputs": [],
   "source": [
    "# Import root_mean_squared_error\n",
    "from ____.____ import ____\n",
    "\n",
    "# Compute R-squared\n",
    "r_squared = reg.____(____, ____)\n",
    "\n",
    "# Compute RMSE\n",
    "rmse = ____(____, ____)\n",
    "\n",
    "# Print the metrics\n",
    "print(\"R^2: {}\".format(____))\n",
    "print(\"RMSE: {}\".format(____))"
   ]
  },
  {
   "cell_type": "markdown",
   "id": "8850a501",
   "metadata": {},
   "source": [
    "## Cross-validation for R-squared\n",
    "\n",
    "Cross-validation is a vital approach to evaluating a model. It maximizes the amount of data that is available to the model, as the model is not only trained but also tested on all of the available data.\n",
    "\n",
    "In this exercise, you will build a linear regression model, then use 6-fold cross-validation to assess its accuracy for predicting sales using social media advertising expenditure. You will display the individual score for each of the six-folds.\n",
    "\n",
    "The sales_df dataset has been split into y for the target variable, and X for the features, and preloaded for you. LinearRegression has been imported from sklearn.linear_model.\n",
    "\n",
    "### Instructions\n",
    " - Import KFold and cross_val_score.\n",
    " - Create kf by calling KFold(), setting the number of splits to six, shuffle to True, and setting a seed of 5.\n",
    " - Perform cross-validation using reg on X and y, passing kf to cv.\n",
    " - Print the cv_scores."
   ]
  },
  {
   "cell_type": "code",
   "execution_count": null,
   "id": "900dc519",
   "metadata": {},
   "outputs": [],
   "source": [
    "# Import the necessary modules\n",
    "from ____.____ import ____, ____\n",
    "\n",
    "# Create a KFold object\n",
    "kf = ____(n_splits=____, shuffle=____, random_state=____)\n",
    "\n",
    "reg = LinearRegression()\n",
    "\n",
    "# Compute 6-fold cross-validation scores\n",
    "cv_scores = ____(____, ____, ____, cv=____)\n",
    "\n",
    "# Print scores\n",
    "print(____)"
   ]
  },
  {
   "cell_type": "markdown",
   "id": "eefe8906",
   "metadata": {},
   "source": [
    "## Analyzing cross-validation metrics\n",
    "Now you have performed cross-validation, it's time to analyze the results.\n",
    "\n",
    "You will display the mean, standard deviation, and 95% confidence interval for cv_scores, which has been preloaded for you from the previous exercise.\n",
    "\n",
    "numpy has been imported for you as np.\n",
    "\n",
    "### Instructions\n",
    " - Calculate and print the mean of the results.\n",
    " - Calculate and print the standard deviation of cv_scores.\n",
    " - Display the 95% confidence interval for your results using np.quantile()."
   ]
  },
  {
   "cell_type": "code",
   "execution_count": null,
   "id": "30084b07",
   "metadata": {},
   "outputs": [],
   "source": [
    "# Print the mean\n",
    "print(____(____))\n",
    "\n",
    "# Print the standard deviation\n",
    "print(____(____))\n",
    "\n",
    "# Print the 95% confidence interval\n",
    "print(____(____, [____, ____]))"
   ]
  },
  {
   "cell_type": "markdown",
   "id": "1c821f4b",
   "metadata": {},
   "source": [
    "## Regularized regression: Ridge\n",
    "Ridge regression performs regularization by computing the squared values of the model parameters multiplied by alpha and adding them to the loss function.\n",
    "\n",
    "In this exercise, you will fit ridge regression models over a range of different alpha values, and print their  scores. You will use all of the features in the sales_df dataset to predict \"sales\". The data has been split into X_train, X_test, y_train, y_test for you.\n",
    "\n",
    "A variable called alphas has been provided as a list containing different alpha values, which you will loop through to generate scores.\n",
    "\n",
    "### Instructions\n",
    " - Import Ridge.\n",
    " - Instantiate Ridge, setting alpha equal to alpha.\n",
    " - Fit the model to the training data.\n",
    " - Calculate the  score for each iteration of ridge.\n",
    " "
   ]
  },
  {
   "cell_type": "code",
   "execution_count": null,
   "id": "64d1129d",
   "metadata": {},
   "outputs": [],
   "source": [
    "# Import Ridge\n",
    "from ____.____ import ____\n",
    "alphas = [0.1, 1.0, 10.0, 100.0, 1000.0, 10000.0]\n",
    "ridge_scores = []\n",
    "for alpha in alphas:\n",
    "  \n",
    "  # Create a Ridge regression model\n",
    "  ridge = ____\n",
    "  \n",
    "  # Fit the data\n",
    "  ____\n",
    "  \n",
    "  # Obtain R-squared\n",
    "  score = ____\n",
    "  ridge_scores.append(score)\n",
    "print(ridge_scores)"
   ]
  },
  {
   "cell_type": "markdown",
   "id": "4bb13700",
   "metadata": {},
   "source": [
    "## Lasso regression for feature importance\n",
    "In the video, you saw how lasso regression can be used to identify important features in a dataset.\n",
    "\n",
    "In this exercise, you will fit a lasso regression model to the sales_df data and plot the model's coefficients.\n",
    "\n",
    "The feature and target variable arrays have been pre-loaded as X and y, along with sales_columns, which contains the dataset's feature names.\n",
    "\n",
    "### Instructions\n",
    " - Import Lasso from sklearn.linear_model.\n",
    " - Instantiate a Lasso regressor with an alpha of 0.3.\n",
    " - Fit the model to the data.\n",
    " - Compute the model's coefficients, storing as lasso_coef."
   ]
  },
  {
   "cell_type": "code",
   "execution_count": 14,
   "id": "8c9fa3f4",
   "metadata": {},
   "outputs": [],
   "source": [
    "sales_columns = list(sales_df.drop(columns='sales').columns)"
   ]
  },
  {
   "cell_type": "code",
   "execution_count": null,
   "id": "e8b63033",
   "metadata": {},
   "outputs": [],
   "source": [
    "# Import Lasso\n",
    "from ____.____ import ____\n",
    "\n",
    "# Instantiate a lasso regression model\n",
    "lasso = ____\n",
    "\n",
    "# Fit the model to the data\n",
    "____\n",
    "\n",
    "# Compute and print the coefficients\n",
    "lasso_coef = ____\n",
    "print(lasso_coef)\n",
    "plt.bar(sales_columns, lasso_coef)\n",
    "plt.xticks(rotation=45)\n",
    "plt.show()"
   ]
  }
 ],
 "metadata": {
  "kernelspec": {
   "display_name": "ml25",
   "language": "python",
   "name": "python3"
  },
  "language_info": {
   "codemirror_mode": {
    "name": "ipython",
    "version": 3
   },
   "file_extension": ".py",
   "mimetype": "text/x-python",
   "name": "python",
   "nbconvert_exporter": "python",
   "pygments_lexer": "ipython3",
   "version": "3.11.13"
  }
 },
 "nbformat": 4,
 "nbformat_minor": 5
}
