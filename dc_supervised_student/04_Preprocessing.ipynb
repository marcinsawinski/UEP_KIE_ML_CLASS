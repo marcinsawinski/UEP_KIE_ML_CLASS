{
 "cells": [
  {
   "cell_type": "markdown",
   "id": "f0249f66",
   "metadata": {},
   "source": [
    "# Preprocessing and Pipelines\n",
    "Learn how to impute missing values, convert categorical data to numeric values, scale data, evaluate multiple supervised learning models simultaneously, and build pipelines to streamline your workflow!"
   ]
  },
  {
   "cell_type": "markdown",
   "id": "aee67386",
   "metadata": {},
   "source": [
    "## Creating dummy variables\n",
    "Being able to include categorical features in the model building process can enhance performance as they may add information that contributes to prediction accuracy.\n",
    "\n",
    "The music_df dataset has been preloaded for you, and its shape is printed. Also, pandas has been imported as pd.\n",
    "\n",
    "Now you will create a new DataFrame containing the original columns of music_df plus dummy variables from the \"genre\" column.\n",
    "\n",
    "### Instructions\n",
    "\n",
    " - Use a relevant function, passing the entire music_df DataFrame, to create music_dummies, dropping the first binary column.\n",
    " - Print the shape of music_dummies."
   ]
  },
  {
   "cell_type": "code",
   "execution_count": 1,
   "id": "125b44b1",
   "metadata": {},
   "outputs": [
    {
     "name": "stdout",
     "output_type": "stream",
     "text": [
      "<class 'pandas.core.frame.DataFrame'>\n",
      "RangeIndex: 1000 entries, 0 to 999\n",
      "Data columns (total 12 columns):\n",
      " #   Column            Non-Null Count  Dtype  \n",
      "---  ------            --------------  -----  \n",
      " 0   popularity        969 non-null    float64\n",
      " 1   acousticness      800 non-null    float64\n",
      " 2   danceability      857 non-null    float64\n",
      " 3   duration_ms       909 non-null    float64\n",
      " 4   energy            800 non-null    float64\n",
      " 5   instrumentalness  909 non-null    float64\n",
      " 6   liveness          954 non-null    float64\n",
      " 7   loudness          956 non-null    float64\n",
      " 8   speechiness       941 non-null    float64\n",
      " 9   tempo             954 non-null    float64\n",
      " 10  valence           857 non-null    float64\n",
      " 11  genre             992 non-null    object \n",
      "dtypes: float64(11), object(1)\n",
      "memory usage: 93.9+ KB\n"
     ]
    }
   ],
   "source": [
    "import pandas as pd\n",
    "import numpy as np\n",
    "\n",
    "music_df = pd.read_csv(\"datasets/music_messy.csv\")\n",
    "music_df.info()"
   ]
  },
  {
   "cell_type": "code",
   "execution_count": null,
   "id": "cde7d2f4",
   "metadata": {},
   "outputs": [],
   "source": [
    "# Create music_dummies\n",
    "music_dummies = ____\n",
    "\n",
    "# Print the new DataFrame's shape\n",
    "print(\"Shape of music_dummies: {}\".format(____))"
   ]
  },
  {
   "cell_type": "markdown",
   "id": "3d82ff71",
   "metadata": {},
   "source": [
    "## Regression with categorical features\n",
    "Now you have created music_dummies, containing binary features for each song's genre, it's time to build a ridge regression model to predict song popularity.\n",
    "\n",
    "music_dummies has been preloaded for you, along with Ridge, cross_val_score, numpy as np, and a KFold object stored as kf.\n",
    "\n",
    "The model will be evaluated by calculating the average RMSE, but first, you will need to convert the scores for each fold to positive values and take their square root. This metric shows the average error of our model's predictions, so it can be compared against the standard deviation of the target value—\"popularity\".\n",
    "\n",
    "### Instructions\n",
    "\n",
    " - Create X, containing all features in music_dummies, and y, consisting of the \"popularity\" column, respectively.\n",
    " - Instantiate a ridge regression model, setting alpha equal to 0.2.\n",
    " - Perform cross-validation on X and y using the ridge model, setting cv equal to kf, and using negative mean squared error as the scoring metric.\n",
    " - Print the RMSE values by converting negative scores to positive and taking the square root."
   ]
  },
  {
   "cell_type": "code",
   "execution_count": 3,
   "id": "ff433bc1",
   "metadata": {},
   "outputs": [],
   "source": [
    "from sklearn.linear_model import Ridge\n",
    "from sklearn.model_selection import cross_val_score\n",
    "from sklearn.model_selection import KFold\n",
    "kf = KFold(n_splits=5, random_state=42, shuffle=True)"
   ]
  },
  {
   "cell_type": "code",
   "execution_count": null,
   "id": "73310bfe",
   "metadata": {},
   "outputs": [],
   "source": [
    "# Create X and y\n",
    "X = ____\n",
    "y = ____\n",
    "\n",
    "# Instantiate a ridge model\n",
    "ridge = ____\n",
    "\n",
    "# Perform cross-validation\n",
    "scores = ____(____, ____, ____, cv=____, scoring=\"____\")\n",
    "\n",
    "# Calculate RMSE\n",
    "rmse = np.____(____)\n",
    "print(\"Average RMSE: {}\".format(np.mean(rmse)))\n",
    "print(\"Standard Deviation of the target array: {}\".format(np.std(y)))"
   ]
  },
  {
   "cell_type": "markdown",
   "id": "0aa79d5b",
   "metadata": {},
   "source": [
    "## Dropping missing data\n",
    "Over the next three exercises, you are going to tidy the music_df dataset. You will create a pipeline to impute missing values and build a KNN classifier model, then use it to predict whether a song is of the \"Rock\" genre.\n",
    "\n",
    "In this exercise specifically, you will drop missing values accounting for less than 5% of the dataset, and convert the \"genre\" column into a binary feature.\n",
    "\n",
    "### Instructions\n",
    " - Print the number of missing values for each column in the music_df dataset, sorted in ascending order.\n",
    " - Remove values for all columns with 50 or fewer missing values.\n",
    " - Convert music_df[\"genre\"] to values of 1 if the row contains \"Rock\", otherwise change the value to 0."
   ]
  },
  {
   "cell_type": "code",
   "execution_count": null,
   "id": "1eb141a7",
   "metadata": {},
   "outputs": [],
   "source": [
    "# Print missing values for each column\n",
    "____"
   ]
  },
  {
   "cell_type": "code",
   "execution_count": null,
   "id": "e17c5af2",
   "metadata": {},
   "outputs": [],
   "source": [
    "# Remove values where less than 5% are missing\n",
    "music_df = music_df.____(subset=____)"
   ]
  },
  {
   "cell_type": "code",
   "execution_count": null,
   "id": "259b4c7b",
   "metadata": {},
   "outputs": [],
   "source": [
    "# Convert genre to a binary feature\n",
    "music_df[\"genre\"] = np.where(____[\"____\"] == \"____\", ____, ____)"
   ]
  },
  {
   "cell_type": "code",
   "execution_count": null,
   "id": "1df9fcdf",
   "metadata": {},
   "outputs": [],
   "source": [
    "print(music_df.isna().sum().sort_values())\n",
    "print(\"Shape of the `music_df`: {}\".format(music_df.shape))"
   ]
  },
  {
   "cell_type": "markdown",
   "id": "1d1a72b0",
   "metadata": {},
   "source": [
    "## Pipeline for song genre prediction: I\n",
    "Now it's time to build a pipeline. It will contain steps to impute missing values using the mean for each feature and build a KNN model for the classification of song genre.\n",
    "\n",
    "The modified music_df dataset that you created in the previous exercise has been preloaded for you, along with KNeighborsClassifier and train_test_split.\n",
    "\n",
    "### Instructions\n",
    " - Import SimpleImputer and Pipeline.\n",
    " - Instantiate an imputer.\n",
    " - Instantiate a KNN classifier with three neighbors.\n",
    " - Create steps, a list of tuples containing the imputer variable you created, called \"imputer\", followed by the knn model you created, called \"knn\"."
   ]
  },
  {
   "cell_type": "code",
   "execution_count": 9,
   "id": "5928a31d",
   "metadata": {},
   "outputs": [],
   "source": [
    "from sklearn.neighbors import KNeighborsClassifier"
   ]
  },
  {
   "cell_type": "code",
   "execution_count": null,
   "id": "e292483b",
   "metadata": {},
   "outputs": [],
   "source": [
    "# Import modules\n",
    "____\n",
    "____\n",
    "\n",
    "# Instantiate an imputer\n",
    "imputer = ____()\n",
    "\n",
    "# Instantiate a knn model\n",
    "knn = ____\n",
    "\n",
    "# Build steps for the pipeline\n",
    "steps = [(\"____\", ____), \n",
    "         (\"____\", ____)]"
   ]
  },
  {
   "cell_type": "markdown",
   "id": "83b0cb98",
   "metadata": {},
   "source": [
    "## Pipeline for song genre prediction: II\n",
    "Having set up the steps of the pipeline in the previous exercise, you will now use it on the music_df dataset to classify the genre of songs. What makes pipelines so incredibly useful is the simple interface that they provide.\n",
    "\n",
    "X_train, X_test, y_train, and y_test have been preloaded for you, and confusion_matrix has been imported from sklearn.metrics.\n",
    "\n",
    "### Instructions\n",
    " - Create a pipeline using the steps you previously defined.\n",
    " - Fit the pipeline to the training data.\n",
    " - Make predictions on the test set.\n",
    " - Calculate and print the confusion matrix."
   ]
  },
  {
   "cell_type": "code",
   "execution_count": 12,
   "id": "0f9fcb58",
   "metadata": {},
   "outputs": [],
   "source": [
    "from sklearn.model_selection import train_test_split\n",
    "from sklearn.metrics import confusion_matrix\n",
    "X = music_df.drop(columns=\"genre\").values\n",
    "y = music_df[\"genre\"].values\n",
    "X_train, X_test, y_train, y_test = train_test_split(X, y, test_size=0.2, random_state=42, stratify=y)"
   ]
  },
  {
   "cell_type": "code",
   "execution_count": null,
   "id": "a918ff40",
   "metadata": {},
   "outputs": [],
   "source": [
    "# Create the pipeline\n",
    "pipeline = ____(____)\n",
    "\n",
    "# Fit the pipeline to the training data\n",
    "____\n",
    "\n",
    "# Make predictions on the test set\n",
    "y_pred = ____\n",
    "\n",
    "# Print the confusion matrix\n",
    "print(____(____, ____))"
   ]
  },
  {
   "cell_type": "markdown",
   "id": "416b9cb9",
   "metadata": {},
   "source": [
    "## Centering and scaling for regression\n",
    "Now you have seen the benefits of scaling your data, you will use a pipeline to preprocess the music_df features and build a lasso regression model to predict a song's loudness.\n",
    "\n",
    "X_train, X_test, y_train, and y_test have been created from the music_df dataset, where the target is \"loudness\" and the features are all other columns in the dataset. Lasso and Pipeline have also been imported for you.\n",
    "\n",
    "Note that \"genre\" has been converted to a binary feature where 1 indicates a rock song, and 0 represents other genres.\n",
    "\n",
    "### Instructions\n",
    " - Import StandardScaler.\n",
    " - Create the steps for the pipeline object, a StandardScaler object called \"scaler\", and a lasso model called \"lasso\" with alpha set to 0.5.\n",
    " - Instantiate a pipeline with steps to scale and build a lasso regression model.\n",
    " - Calculate the R-squared value on the test data."
   ]
  },
  {
   "cell_type": "code",
   "execution_count": 14,
   "id": "d90e21c3",
   "metadata": {},
   "outputs": [],
   "source": [
    "from sklearn.linear_model import Lasso\n",
    "music_df = pd.read_csv(\"datasets/music_clean.csv\").drop(columns=\"Unnamed: 0\")\n",
    "X = music_df.drop(columns=\"genre\").values\n",
    "y = music_df[\"genre\"].values\n",
    "X_train, X_test, y_train, y_test = train_test_split(X, y, test_size=0.3, random_state=42, stratify=y)"
   ]
  },
  {
   "cell_type": "code",
   "execution_count": null,
   "id": "8a3a7ea5",
   "metadata": {},
   "outputs": [],
   "source": [
    "# Import StandardScaler\n",
    "____\n",
    "\n",
    "# Create pipeline steps\n",
    "steps = [(\"____\", ____()),\n",
    "         (\"____\", ____(alpha=____))]\n",
    "\n",
    "# Instantiate the pipeline\n",
    "pipeline = ____(____)\n",
    "pipeline.fit(X_train, y_train)\n",
    "\n",
    "# Calculate and print R-squared\n",
    "print(____.____(____, ____))"
   ]
  },
  {
   "cell_type": "markdown",
   "id": "f4da7517",
   "metadata": {},
   "source": [
    "## Centering and scaling for classification\n",
    "Now you will bring together scaling and model building into a pipeline for cross-validation.\n",
    "\n",
    "Your task is to build a pipeline to scale features in the music_df dataset and perform grid search cross-validation using a logistic regression model with different values for the hyperparameter C. The target variable here is \"genre\", which contains binary values for rock as 1 and any other genre as 0.\n",
    "\n",
    "StandardScaler, LogisticRegression, and GridSearchCV have all been imported for you.\n",
    "\n",
    "### Instructions\n",
    " - Build the steps for the pipeline: a StandardScaler() object named \"scaler\", and a logistic regression model named \"logreg\".\n",
    " - Create the parameters, searching 20 equally spaced float values ranging from 0.001 to 1.0 for the logistic regression model's C hyperparameter within the pipeline.\n",
    " - Instantiate the grid search object.\n",
    " - Fit the grid search object to the training data."
   ]
  },
  {
   "cell_type": "code",
   "execution_count": 16,
   "id": "b9407dfc",
   "metadata": {},
   "outputs": [],
   "source": [
    "from sklearn.linear_model import LogisticRegression\n",
    "from sklearn.model_selection import GridSearchCV"
   ]
  },
  {
   "cell_type": "code",
   "execution_count": null,
   "id": "cf11b495",
   "metadata": {},
   "outputs": [],
   "source": [
    "# Build the steps\n",
    "steps = [(\"____\", ____()),\n",
    "         (\"____\", ____())]\n",
    "pipeline = Pipeline(steps)\n",
    "\n",
    "# Create the parameter space\n",
    "parameters = {\"____\": np.____(____, ____, 20)}\n",
    "X_train, X_test, y_train, y_test = train_test_split(X, y, test_size=0.2, \n",
    "                                                    random_state=21)\n",
    "\n",
    "# Instantiate the grid search object\n",
    "cv = ____(____, param_grid=____)\n",
    "\n",
    "# Fit to the training data\n",
    "cv.____(____, ____)\n",
    "print(cv.best_score_, \"\\n\", cv.best_params_)"
   ]
  },
  {
   "cell_type": "markdown",
   "id": "86fb2fd5",
   "metadata": {},
   "source": [
    "## Visualizing regression model performance\n",
    "Now you have seen how to evaluate multiple models out of the box, you will build three regression models to predict a song's \"energy\" levels.\n",
    "\n",
    "The music_df dataset has had dummy variables for \"genre\" added. Also, feature and target arrays have been created, and these have been split into X_train, X_test, y_train, and y_test.\n",
    "\n",
    "The following have been imported for you: LinearRegression, Ridge, Lasso, cross_val_score, and KFold.\n",
    "\n",
    "### Instructions\n",
    " - Write a for loop using model as the iterator, and model.values() as the iterable.\n",
    " - Perform cross-validation on the training features and the training target array using the model, setting cv equal to the KFold object.\n",
    " - Append the model's cross-validation scores to the results list.\n",
    " - Create a box plot displaying the results, with the x-axis labels as the names of the models."
   ]
  },
  {
   "cell_type": "code",
   "execution_count": 23,
   "id": "9d2d8f32",
   "metadata": {},
   "outputs": [],
   "source": [
    "from sklearn.linear_model import LinearRegression, Ridge, Lasso\n",
    "from sklearn.model_selection import KFold, cross_val_score\n",
    "from matplotlib import pyplot as plt"
   ]
  },
  {
   "cell_type": "code",
   "execution_count": null,
   "id": "7b121be0",
   "metadata": {},
   "outputs": [],
   "source": [
    "models = {\"Linear Regression\": LinearRegression(), \"Ridge\": Ridge(alpha=0.1), \"Lasso\": Lasso(alpha=0.1)}\n",
    "results = []\n",
    "\n",
    "# Loop through the models' values\n",
    "for ____ in models.values():\n",
    "  kf = KFold(n_splits=6, random_state=42, shuffle=True)\n",
    "  \n",
    "  # Perform cross-validation\n",
    "  cv_scores = ____(____, ____, ____, cv=____)\n",
    "  \n",
    "  # Append the results\n",
    "  ____.____(____)\n",
    "\n",
    "# Create a box plot of the results\n",
    "plt.____(____, labels=____.____())\n",
    "plt.show()"
   ]
  },
  {
   "cell_type": "markdown",
   "id": "0fd0b73d",
   "metadata": {},
   "source": [
    "## Predicting on the test set\n",
    "In the last exercise, linear regression and ridge appeared to produce similar results. It would be appropriate to select either of those models; however, you can check predictive performance on the test set to see if either one can outperform the other.\n",
    "\n",
    "You will use root mean squared error (RMSE) as the metric. The dictionary models, containing the names and instances of the two models, has been preloaded for you along with the training and target arrays X_train_scaled, X_test_scaled, y_train, and y_test.\n",
    "\n",
    "### Instructions\n",
    " - Import root_mean_squared_error.\n",
    " - Fit the model to the scaled training features and the training labels.\n",
    " - Make predictions using the scaled test features.\n",
    " - Calculate RMSE by passing the test set labels and the predicted labels."
   ]
  },
  {
   "cell_type": "code",
   "execution_count": 29,
   "id": "b8258633",
   "metadata": {},
   "outputs": [],
   "source": [
    "scaler = StandardScaler()\n",
    "X_train_scaled = scaler.fit_transform(X_train)\n",
    "X_test_scaled = scaler.transform(X_test)"
   ]
  },
  {
   "cell_type": "code",
   "execution_count": null,
   "id": "3a767b5f",
   "metadata": {},
   "outputs": [],
   "source": [
    "# Import root_mean_squared_error\n",
    "from ____.____ import ____\n",
    "\n",
    "for name, model in models.items():\n",
    "  # Fit the model to the training data\n",
    "  ____\n",
    "  \n",
    "  # Make predictions on the test set\n",
    "  y_pred = ____\n",
    "  \n",
    "  # Calculate the test_rmse\n",
    "  test_rmse = ____(____, ____)\n",
    "  print(\"{} Test Set RMSE: {}\".format(name, test_rmse))"
   ]
  },
  {
   "cell_type": "markdown",
   "id": "6f22bd88",
   "metadata": {},
   "source": [
    "## Visualizing classification model performance\n",
    "In this exercise, you will be solving a classification problem where the \"popularity\" column in the music_df dataset has been converted to binary values, with 1 representing popularity more than or equal to the median for the \"popularity\" column, and 0 indicating popularity below the median.\n",
    "\n",
    "Your task is to build and visualize the results of three different models to classify whether a song is popular or not.\n",
    "\n",
    "The data has been split, scaled, and preloaded for you as X_train_scaled, X_test_scaled, y_train, and y_test. Additionally, KNeighborsClassifier, DecisionTreeClassifier, and LogisticRegression have been imported.\n",
    "\n",
    "### Instructions\n",
    " - Create a dictionary of \"Logistic Regression\", \"KNN\", and \"Decision Tree Classifier\", setting the dictionary's values to a call of each model.\n",
    " - Loop through the values in models.\n",
    " - Instantiate a KFold object to perform 6 splits, setting shuffle to True and random_state to 12.\n",
    " - Perform cross-validation using the model, the scaled training features, the target training set, and setting cv equal to kf."
   ]
  },
  {
   "cell_type": "code",
   "execution_count": 32,
   "id": "4d3202ca",
   "metadata": {},
   "outputs": [],
   "source": [
    "from sklearn.tree import DecisionTreeClassifier"
   ]
  },
  {
   "cell_type": "code",
   "execution_count": null,
   "id": "84983a50",
   "metadata": {},
   "outputs": [],
   "source": [
    "# Create models dictionary\n",
    "models = {\"____\": ____(), \"____\": ____(), \"____\": ____()}\n",
    "results = []\n",
    "\n",
    "# Loop through the models' values\n",
    "for model in ____.____():\n",
    "  \n",
    "  # Instantiate a KFold object\n",
    "  kf = ____(n_splits=____, random_state=____, shuffle=____)\n",
    "  \n",
    "  # Perform cross-validation\n",
    "  cv_results = ____(____, ____, ____, cv=____)\n",
    "  results.append(cv_results)\n",
    "plt.boxplot(results, labels=models.keys())\n",
    "plt.show()"
   ]
  },
  {
   "cell_type": "markdown",
   "id": "243efafb",
   "metadata": {},
   "source": [
    "## Pipeline for predicting song popularity\n",
    "For the final exercise, you will build a pipeline to impute missing values, scale features, and perform hyperparameter tuning of a logistic regression model. The aim is to find the best parameters and accuracy when predicting song genre!\n",
    "\n",
    "All the models and objects required to build the pipeline have been preloaded for you.\n",
    "\n",
    "### Instructions\n",
    " - Create the steps for the pipeline by calling a simple imputer, a standard scaler, and a logistic regression model.\n",
    " - Create a pipeline object, and pass the steps variable.\n",
    " - Instantiate a grid search object to perform cross-validation using the pipeline and the parameters.\n",
    " - Print the best parameters and compute and print the test set accuracy score for the grid search object."
   ]
  },
  {
   "cell_type": "code",
   "execution_count": null,
   "id": "a52d9063",
   "metadata": {},
   "outputs": [],
   "source": [
    "# Create steps\n",
    "steps = [(\"imp_mean\", ____()), \n",
    "         (\"scaler\", ____()), \n",
    "         (\"logreg\", ____())]\n",
    "\n",
    "# Set up pipeline\n",
    "pipeline = ____(____)\n",
    "params = ą{\"logreg__solver\": [\"newton-cg\", \"saga\", \"lbfgs\"],\n",
    "         \"logreg__C\": np.linspace(0.001, 1.0, 10)}\n",
    "\n",
    "# Create the GridSearchCV object\n",
    "tuning = ____(____, param_grid=____)\n",
    "tuning.fit(X_train, y_train)\n",
    "y_pred = tuning.predict(X_test)\n",
    "\n",
    "# Compute and print performance\n",
    "print(\"Tuned Logistic Regression Parameters: {}, Accuracy: {}\".format(____.____, ____.____))"
   ]
  }
 ],
 "metadata": {
  "kernelspec": {
   "display_name": "ml25",
   "language": "python",
   "name": "python3"
  },
  "language_info": {
   "codemirror_mode": {
    "name": "ipython",
    "version": 3
   },
   "file_extension": ".py",
   "mimetype": "text/x-python",
   "name": "python",
   "nbconvert_exporter": "python",
   "pygments_lexer": "ipython3",
   "version": "3.11.13"
  }
 },
 "nbformat": 4,
 "nbformat_minor": 5
}
