{
 "cells": [
  {
   "cell_type": "markdown",
   "id": "a576d13e",
   "metadata": {},
   "source": [
    "# Classification\n",
    "\n",
    "<a href=\"https://colab.research.google.com/github/marcinsawinski/UEP_KIE_ML_CLASS/blob/main/dc_supervised_student/01_Classification.ipynb\" target=\"_parent\"><img src=\"https://colab.research.google.com/assets/colab-badge.svg\" alt=\"Open In Colab\"/></a>\n",
    "\n",
    "In this chapter, you'll be introduced to classification problems and learn how to solve them using supervised learning techniques. You'll learn how to split data into training and test sets, fit a model, make predictions, and evaluate accuracy. You’ll discover the relationship between model complexity and performance, applying what you learn to a churn dataset, where you will classify the churn status of a telecom company's customers.\n"
   ]
  },
  {
   "cell_type": "markdown",
   "id": "666a3cc0",
   "metadata": {},
   "source": [
    "``` \n",
    "from sklearn.neighbors import KNeighborsClassifier\n",
    "model = KNeighborsClassifier()\n",
    "model.fit(X, y)\n",
    "predictions = model.predict(X_new)\n",
    "```"
   ]
  },
  {
   "cell_type": "markdown",
   "id": "2ad04b89",
   "metadata": {},
   "source": [
    "## Setup env"
   ]
  },
  {
   "cell_type": "code",
   "execution_count": null,
   "id": "423d1b56",
   "metadata": {},
   "outputs": [],
   "source": [
    "%pip install scikit-learn matplotlib"
   ]
  },
  {
   "cell_type": "markdown",
   "id": "f0f654be",
   "metadata": {},
   "source": [
    "# k-Nearest Neighbors: Fit\n",
    "\n",
    "In this exercise, you will build your first classification model using the churn_df dataset, which has been preloaded for the remainder of the chapter.\n",
    "\n",
    "The target, \"churn\", needs to be a single column with the same number of observations as the feature data. The feature data has already been converted into numpy arrays.\n",
    "\n",
    "\"account_length\" and \"customer_service_calls\" are treated as features because account length indicates customer loyalty, and frequent customer service calls may signal dissatisfaction, both of which can be good predictors of churn.\n",
    "\n",
    "## Instructions\n",
    "- Import KNeighborsClassifier from sklearn.neighbors.\n",
    "- Instantiate a KNeighborsClassifier called knn with 6 neighbors.\n",
    "- Fit the classifier to the data using the .fit() method."
   ]
  },
  {
   "cell_type": "code",
   "execution_count": null,
   "id": "75fc83a7",
   "metadata": {},
   "outputs": [],
   "source": [
    "import pandas as pd\n",
    "import numpy as np\n",
    "\n",
    "churn_df = pd.read_csv(\"https://raw.githubusercontent.com/marcinsawinski/UEP_KIE_ML_CLASS/refs/heads/main/dc_supervised_student/datasets/telecom_churn_clean.csv\")\n",
    "X = churn_df[[\"account_length\", \"customer_service_calls\"]].values\n",
    "y = churn_df[\"churn\"].values"
   ]
  },
  {
   "cell_type": "code",
   "execution_count": null,
   "id": "4f22ae18",
   "metadata": {},
   "outputs": [],
   "source": [
    "# Import KNeighborsClassifier\n",
    "from ____.____ import ____ \n",
    "\n",
    "y = churn_df[\"churn\"].values\n",
    "X = churn_df[[\"account_length\", \"customer_service_calls\"]].values\n",
    "\n",
    "# Create a KNN classifier with 6 neighbors\n",
    "knn = ____(____=____)\n",
    "\n",
    "# Fit the classifier to the data\n",
    "knn.____(____, ____)"
   ]
  },
  {
   "cell_type": "markdown",
   "id": "67a921cc",
   "metadata": {},
   "source": [
    "# k-Nearest Neighbors: Predict\n",
    "\n",
    "Now you have fit a KNN classifier, you can use it to predict the label of new data points. All available data was used for training, however, fortunately, there are new observations available. These have been preloaded for you as X_new.\n",
    "\n",
    "The model knn, which you created and fit the data in the last exercise, has been preloaded for you. You will use your classifier to predict the labels of a set of new data points:\n",
    "\n",
    "```\n",
    "X_new = np.array([[30.0, 17.5],\n",
    "                  [107.0, 24.1],\n",
    "                  [213.0, 10.9]])\n",
    "```\n",
    "\n",
    "## Instructions\n",
    "- Create y_pred by predicting the target values of the unseen features X_new using the knn model.\n",
    "- Print the predicted labels for the set of predictions."
   ]
  },
  {
   "cell_type": "code",
   "execution_count": null,
   "id": "a2ff8efd",
   "metadata": {},
   "outputs": [],
   "source": [
    "X_new = np.array([[30.0, 17.5],\n",
    "                  [107.0, 24.1],\n",
    "                  [213.0, 10.9]])\n",
    "                  \n",
    "# Predict the labels for the X_new\n",
    "y_pred = ____\n",
    "\n",
    "# Print the predictions\n",
    "print(\"Predictions: {}\".format(____)) "
   ]
  },
  {
   "cell_type": "markdown",
   "id": "794e12f8",
   "metadata": {},
   "source": [
    "# Train/test split + computing accuracy\n",
    "\n",
    "It's time to practice splitting your data into training and test sets with the churn_df dataset!\n",
    "\n",
    "NumPy arrays have been created for you containing the features as X and the target variable as y.\n",
    "\n",
    "## Instructions\n",
    "\n",
    "- Import train_test_split from sklearn.model_selection.\n",
    "- Split X and y into training and test sets, setting test_size equal to 20%, random_state to 42, and ensuring the target label proportions reflect that of the original dataset.\n",
    "- Fit the knn model to the training data.\n",
    "- Compute and print the model's accuracy for the test data."
   ]
  },
  {
   "cell_type": "code",
   "execution_count": null,
   "id": "854d4de6",
   "metadata": {},
   "outputs": [],
   "source": [
    "# Import the module\n",
    "from ____ import ____\n",
    "\n",
    "X = churn_df.drop(\"churn\", axis=1).values\n",
    "y = churn_df[\"churn\"].values\n",
    "\n",
    "# Split into training and test sets\n",
    "X_train, X_test, y_train, y_test = ____(____, ____, test_size=____, random_state=____, stratify=____)\n",
    "knn = KNeighborsClassifier(n_neighbors=5)\n",
    "\n",
    "# Fit the classifier to the training data\n",
    "____\n",
    "\n",
    "# Print the accuracy\n",
    "print(knn.score(____, ____))"
   ]
  },
  {
   "cell_type": "markdown",
   "id": "b1c8fa91",
   "metadata": {},
   "source": [
    "# Overfitting and underfitting\n",
    "\n",
    "Interpreting model complexity is a great way to evaluate supervised learning performance. Your aim is to produce a model that can interpret the relationship between features and the target variable, as well as generalize well when exposed to new observations.\n",
    "\n",
    "The training and test sets have been created from the churn_df dataset and preloaded as X_train, X_test, y_train, and y_test.\n",
    "\n",
    "In addition, KNeighborsClassifier has been imported for you along with numpy as np.\n",
    "\n",
    "## Instructions\n",
    "\n",
    "- Create neighbors as a numpy array of values from 1 up to and including 12.\n",
    "- Instantiate a KNeighborsClassifier, with the number of neighbors equal to the neighbor iterator.\n",
    "- Fit the model to the training data.\n",
    "- Calculate accuracy scores for the training set and test set separately using the .score() method, and assign the results to the train_accuracies and test_accuracies dictionaries, respectively, utilizing the neighbor iterator as the index."
   ]
  },
  {
   "cell_type": "code",
   "execution_count": null,
   "id": "935b37a1",
   "metadata": {},
   "outputs": [],
   "source": [
    "# Create neighbors\n",
    "neighbors = np.arange(____, ____)\n",
    "train_accuracies = {}\n",
    "test_accuracies = {}\n",
    "\n",
    "for neighbor in neighbors:\n",
    "  \n",
    "\t# Set up a KNN Classifier\n",
    "\tknn = ____(____=____)\n",
    "  \n",
    "\t# Fit the model\n",
    "\tknn.____(____, ____)\n",
    "  \n",
    "\t# Compute accuracy\n",
    "\ttrain_accuracies[____] = knn.____(____, ____)\n",
    "\ttest_accuracies[____] = knn.____(____, ____)\n",
    "print(neighbors, '\\n', train_accuracies, '\\n', test_accuracies)"
   ]
  },
  {
   "cell_type": "markdown",
   "id": "8b2b1297",
   "metadata": {},
   "source": [
    "# Visualizing model complexity\n",
    "\n",
    "Now you have calculated the accuracy of the KNN model on the training and test sets using various values of n_neighbors, you can create a model complexity curve to visualize how performance changes as the model becomes less complex!\n",
    "\n",
    "The variables neighbors, train_accuracies, and test_accuracies, which you generated in the previous exercise, have all been preloaded for you. You will plot the results to aid in finding the optimal number of neighbors for your model.\n",
    "\n",
    "## Instructions\n",
    "\n",
    "- Add a title \"KNN: Varying Number of Neighbors\".\n",
    "- Plot the .values() method of train_accuracies on the y-axis against neighbors on the x-axis, with a label of \"Training Accuracy\".\n",
    "- Plot the .values() method of test_accuracies on the y-axis against neighbors on the x-axis, with a label of \"Testing Accuracy\".\n",
    "- Display the plot."
   ]
  },
  {
   "cell_type": "code",
   "execution_count": null,
   "id": "49f3d232",
   "metadata": {},
   "outputs": [],
   "source": [
    "import matplotlib.pyplot as plt"
   ]
  },
  {
   "cell_type": "code",
   "execution_count": null,
   "id": "53bd5425",
   "metadata": {},
   "outputs": [],
   "source": [
    "# Add a title\n",
    "plt.title(\"____\")\n",
    "\n",
    "# Plot training accuracies\n",
    "plt.plot(____, ____, label=\"____\")\n",
    "\n",
    "# Plot test accuracies\n",
    "plt.plot(____, ____, label=\"____\")\n",
    "\n",
    "plt.legend()\n",
    "plt.xlabel(\"Number of Neighbors\")\n",
    "plt.ylabel(\"Accuracy\")\n",
    "\n",
    "# Display the plot\n",
    "____"
   ]
  },
  {
   "cell_type": "code",
   "execution_count": null,
   "id": "b4f797fa",
   "metadata": {},
   "outputs": [],
   "source": [
    "best_key = max(test_accuracies, key=test_accuracies.get)\n",
    "print(\"Best k =\",best_key, \"with accuracy =\",round(test_accuracies[best_key],4))"
   ]
  }
 ],
 "metadata": {
  "kernelspec": {
   "display_name": "ml25",
   "language": "python",
   "name": "python3"
  },
  "language_info": {
   "codemirror_mode": {
    "name": "ipython",
    "version": 3
   },
   "file_extension": ".py",
   "mimetype": "text/x-python",
   "name": "python",
   "nbconvert_exporter": "python",
   "pygments_lexer": "ipython3",
   "version": "3.11.13"
  }
 },
 "nbformat": 4,
 "nbformat_minor": 5
}
