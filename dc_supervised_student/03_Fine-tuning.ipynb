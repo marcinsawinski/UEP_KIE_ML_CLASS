{
 "cells": [
  {
   "cell_type": "markdown",
   "id": "a02ed581",
   "metadata": {},
   "source": [
    "# Fine-Tuning Your Model\n",
    "\n",
    "<a href=\"https://colab.research.google.com/github/marcinsawinski/UEP_KIE_ML_CLASS/blob/main/dc_supervised_student/03_Fine-tuning.ipynb\" target=\"_parent\"><img src=\"https://colab.research.google.com/assets/colab-badge.svg\" alt=\"Open In Colab\"/></a>\n",
    "\n",
    "Having trained models, now you will learn how to evaluate them. In this chapter, you will be introduced to several metrics along with a visualization technique for analyzing classification model performance using scikit-learn. You will also learn how to optimize classification and regression models through the use of hyperparameter tuning."
   ]
  },
  {
   "cell_type": "markdown",
   "id": "29568334",
   "metadata": {},
   "source": [
    "## Assessing a diabetes prediction classifier\n",
    "In this chapter you'll work with the diabetes_df dataset introduced previously.\n",
    "\n",
    "The goal is to predict whether or not each individual is likely to have diabetes based on the features body mass index (BMI) and age (in years). Therefore, it is a binary classification problem. A target value of 0 indicates that the individual does not have diabetes, while a value of 1 indicates that the individual does have diabetes.\n",
    "\n",
    "diabetes_df has been preloaded for you as a pandas DataFrame and split into X_train, X_test, y_train, and y_test. In addition, a KNeighborsClassifier() has been instantiated and assigned to knn.\n",
    "\n",
    "You will fit the model, make predictions on the test set, then produce a confusion matrix and classification report.\n",
    "\n",
    "### Instructions\n",
    "\n",
    " - Import confusion_matrix and classification_report.\n",
    " - Fit the model to the training data.\n",
    " - Predict the labels of the test set, storing the results as y_pred.\n",
    " - Assessing a diabetes prediction classifier\n",
    " - Compute and print the confusion matrix and classification report for the test labels versus the predicted labels."
   ]
  },
  {
   "cell_type": "code",
   "execution_count": null,
   "id": "7e633542",
   "metadata": {},
   "outputs": [
    {
     "name": "stdout",
     "output_type": "stream",
     "text": [
      "<class 'pandas.core.frame.DataFrame'>\n",
      "RangeIndex: 768 entries, 0 to 767\n",
      "Data columns (total 9 columns):\n",
      " #   Column       Non-Null Count  Dtype  \n",
      "---  ------       --------------  -----  \n",
      " 0   pregnancies  768 non-null    int64  \n",
      " 1   glucose      768 non-null    int64  \n",
      " 2   diastolic    768 non-null    int64  \n",
      " 3   triceps      768 non-null    int64  \n",
      " 4   insulin      768 non-null    int64  \n",
      " 5   bmi          768 non-null    float64\n",
      " 6   dpf          768 non-null    float64\n",
      " 7   age          768 non-null    int64  \n",
      " 8   diabetes     768 non-null    int64  \n",
      "dtypes: float64(2), int64(7)\n",
      "memory usage: 54.1 KB\n"
     ]
    }
   ],
   "source": [
    "import pandas as pd\n",
    "from sklearn.model_selection import train_test_split\n",
    "from sklearn.neighbors import KNeighborsClassifier\n",
    "diabetes_df = pd.read_csv(\"https://raw.githubusercontent.com/marcinsawinski/UEP_KIE_ML_CLASS/refs/heads/main/dc_supervised_student/datasets/diabetes_clean.csv\")\n",
    "diabetes_df.info()"
   ]
  },
  {
   "cell_type": "code",
   "execution_count": 4,
   "id": "896ffedd",
   "metadata": {},
   "outputs": [],
   "source": [
    "X = diabetes_df[[\"bmi\", \"age\"]].values\n",
    "y = diabetes_df[\"diabetes\"].values\n",
    "X_train, X_test, y_train, y_test = train_test_split(X, y, test_size=0.3, random_state=42, stratify=y)"
   ]
  },
  {
   "cell_type": "code",
   "execution_count": null,
   "id": "faa73eb9",
   "metadata": {},
   "outputs": [],
   "source": [
    "# Import confusion matrix\n",
    "____\n",
    "\n",
    "knn = KNeighborsClassifier(n_neighbors=6)\n",
    "\n",
    "# Fit the model to the training data\n",
    "____\n",
    "\n",
    "# Predict the labels of the test data: y_pred\n",
    "y_pred = ____\n",
    "\n",
    "# Generate the confusion matrix and classification report\n",
    "print(____(____, ____))\n",
    "print(____(____, ____))"
   ]
  },
  {
   "cell_type": "markdown",
   "id": "1c3cb1a3",
   "metadata": {},
   "source": [
    "## Building a logistic regression model\n",
    "In this exercise, you will build a logistic regression model using all features in the diabetes_df dataset. The model will be used to predict the probability of individuals in the test set having a diabetes diagnosis.\n",
    "\n",
    "The diabetes_df dataset has been split into X_train, X_test, y_train, and y_test, and preloaded for you.\n",
    "\n",
    "### Instructions\n",
    "\n",
    " - Import LogisticRegression.\n",
    " - Instantiate a logistic regression model, logreg.\n",
    " - Fit the model to the training data.\n",
    " - Predict the probabilities of each individual in the test set having a diabetes diagnosis, storing the array of positive probabilities as y_pred_probs."
   ]
  },
  {
   "cell_type": "code",
   "execution_count": 11,
   "id": "1256de4a",
   "metadata": {},
   "outputs": [],
   "source": [
    "X = diabetes_df.drop(columns=\"diabetes\").values\n",
    "y = diabetes_df[\"diabetes\"].values\n",
    "X_train, X_test, y_train, y_test = train_test_split(X, y, test_size=0.3, random_state=42, stratify=y)"
   ]
  },
  {
   "cell_type": "code",
   "execution_count": null,
   "id": "ceb644b6",
   "metadata": {},
   "outputs": [],
   "source": [
    "# Import LogisticRegression\n",
    "____\n",
    "\n",
    "# Instantiate the model\n",
    "logreg = ____\n",
    "\n",
    "# Fit the model\n",
    "____\n",
    "\n",
    "# Predict probabilities\n",
    "y_pred_probs = logreg.____(____)[____, ____]\n",
    "\n",
    "print(y_pred_probs[:10])"
   ]
  },
  {
   "cell_type": "markdown",
   "id": "9488ec65",
   "metadata": {},
   "source": [
    "## The ROC curve\n",
    "Now you have built a logistic regression model for predicting diabetes status, you can plot the ROC curve to visualize how the true positive rate and false positive rate vary as the decision threshold changes.\n",
    "\n",
    "The test labels, y_test, and the predicted probabilities of the test features belonging to the positive class, y_pred_probs, have been preloaded for you, along with matplotlib.pyplot as plt.\n",
    "\n",
    "You will create a ROC curve and then interpret the results.\n",
    "\n",
    "### Instructions\n",
    " - Import roc_curve.\n",
    " - Calculate the ROC curve values, using y_test and y_pred_probs, and unpacking the results into fpr, tpr, and thresholds.\n",
    " - Plot true positive rate against false positive rate."
   ]
  },
  {
   "cell_type": "code",
   "execution_count": 14,
   "id": "18b34e8e",
   "metadata": {},
   "outputs": [],
   "source": [
    "import matplotlib.pyplot as plt"
   ]
  },
  {
   "cell_type": "code",
   "execution_count": null,
   "id": "97deff75",
   "metadata": {},
   "outputs": [],
   "source": [
    "# Import roc_curve\n",
    "____\n",
    "\n",
    "# Generate ROC curve values: fpr, tpr, thresholds\n",
    "fpr, tpr, thresholds = ____(____, ____)\n",
    "\n",
    "plt.plot([0, 1], [0, 1], 'k--')\n",
    "\n",
    "# Plot tpr against fpr\n",
    "plt.plot(____, ____)\n",
    "plt.xlabel('False Positive Rate')\n",
    "plt.ylabel('True Positive Rate')\n",
    "plt.title('ROC Curve for Diabetes Prediction')\n",
    "plt.show()"
   ]
  },
  {
   "cell_type": "markdown",
   "id": "087d3f0c",
   "metadata": {},
   "source": [
    "## ROC AUC\n",
    "The ROC curve you plotted in the last exercise looked promising.\n",
    "\n",
    "Now you will compute the area under the ROC curve, along with the other classification metrics you have used previously.\n",
    "\n",
    "The confusion_matrix and classification_report functions have been preloaded for you, along with the logreg model you previously built, plus X_train, X_test, y_train, y_test. Also, the model's predicted test set labels are stored as y_pred, and probabilities of test set observations belonging to the positive class stored as y_pred_probs.\n",
    "\n",
    "A knn model has also been created and the performance metrics printed in the console, so you can compare the roc_auc_score, confusion_matrix, and classification_report between the two models.\n",
    "\n",
    "### Instructions\n",
    "\n",
    " - Import roc_auc_score.\n",
    " - Calculate and print the ROC AUC score, passing the test labels and the predicted positive class probabilities.\n",
    " - Calculate and print the confusion matrix.\n",
    " - Call classification_report()."
   ]
  },
  {
   "cell_type": "code",
   "execution_count": null,
   "id": "f5e4f2ae",
   "metadata": {},
   "outputs": [],
   "source": [
    "# Import roc_auc_score\n",
    "____\n",
    "\n",
    "# Calculate roc_auc_score\n",
    "print(____(____, ____))\n",
    "\n",
    "# Calculate the confusion matrix\n",
    "print(____(____, ____))\n",
    "\n",
    "# Calculate the classification report\n",
    "print(____(____, ____))"
   ]
  },
  {
   "cell_type": "markdown",
   "id": "7a2b9368",
   "metadata": {},
   "source": [
    "## Hyperparameter tuning with GridSearchCV\n",
    "Now you have seen how to perform grid search hyperparameter tuning, you are going to build a lasso regression model with optimal hyperparameters to predict blood glucose levels using the features in the diabetes_df dataset.\n",
    "\n",
    "X_train, X_test, y_train, and y_test have been preloaded for you. A KFold() object has been created and stored for you as kf, along with a lasso regression model as lasso.\n",
    "\n",
    "### Instructions\n",
    " - Import GridSearchCV.\n",
    " - Set up a parameter grid for \"alpha\", using np.linspace() to create 20 evenly spaced values ranging from 0.00001 to 1.\n",
    " - Call GridSearchCV(), passing lasso, the parameter grid, and setting cv equal to kf.\n",
    " - Fit the grid search object to the training data to perform a cross-validated grid search."
   ]
  },
  {
   "cell_type": "code",
   "execution_count": 22,
   "id": "e12ba754",
   "metadata": {},
   "outputs": [],
   "source": [
    "import numpy as np\n",
    "from sklearn.linear_model import Lasso\n",
    "from sklearn.model_selection import KFold\n",
    "\n",
    "lasso = Lasso()\n",
    "kf = KFold(n_splits=5, random_state=42, shuffle=True)"
   ]
  },
  {
   "cell_type": "code",
   "execution_count": null,
   "id": "9ee16aa3",
   "metadata": {},
   "outputs": [],
   "source": [
    "# Import GridSearchCV\n",
    "____\n",
    "\n",
    "# Set up the parameter grid\n",
    "param_grid = {\"____\": np.linspace(____, ____, ____)}\n",
    "\n",
    "# Instantiate lasso_cv\n",
    "lasso_cv = ____(____, ____, cv=____)\n",
    "\n",
    "# Fit to the training data\n",
    "____\n",
    "print(\"Tuned lasso paramaters: {}\".format(lasso_cv.best_params_))\n",
    "print(\"Tuned lasso score: {}\".format(lasso_cv.best_score_))"
   ]
  },
  {
   "cell_type": "markdown",
   "id": "2c81a349",
   "metadata": {},
   "source": [
    "## Hyperparameter tuning with RandomizedSearchCV\n",
    "As you saw, GridSearchCV can be computationally expensive, especially if you are searching over a large hyperparameter space. In this case, you can use RandomizedSearchCV, which tests a fixed number of hyperparameter settings from specified probability distributions.\n",
    "\n",
    "Training and test sets from diabetes_df have been pre-loaded for you as X_train. X_test, y_train, and y_test, where the target is \"diabetes\". A logistic regression model has been created and stored as logreg, as well as a KFold variable stored as kf.\n",
    "\n",
    "You will define a range of hyperparameters and use RandomizedSearchCV, which has been imported from sklearn.model_selection, to look for optimal hyperparameters from these options.\n",
    "\n",
    "### Instructions\n",
    "\n",
    " - Create params, adding \"l1\" and \"l2\" as penalty values, setting C to a range of 50 float values between 0.1 and 1.0, and class_weight to either \"balanced\" or a dictionary containing 0:0.8, 1:0.2.\n",
    " - Create the Randomized Search CV object, passing the model and the parameters, and setting cv equal to kf.\n",
    " - Fit logreg_cv to the training data.\n",
    " - Print the model's best parameters and accuracy score."
   ]
  },
  {
   "cell_type": "code",
   "execution_count": 24,
   "id": "6635a7dc",
   "metadata": {},
   "outputs": [],
   "source": [
    "from sklearn.model_selection import RandomizedSearchCV"
   ]
  },
  {
   "cell_type": "code",
   "execution_count": null,
   "id": "a2e62df8",
   "metadata": {},
   "outputs": [],
   "source": [
    "# Create the parameter space\n",
    "params = {\"penalty\": [\"____\", \"____\"],\n",
    "         \"tol\": np.linspace(0.0001, 1.0, 50),\n",
    "         \"C\": np.linspace(____, ____, ____),\n",
    "         \"class_weight\": [\"____\", {0:____, 1:____}]}\n",
    "\n",
    "# Instantiate the RandomizedSearchCV object\n",
    "logreg_cv = ____(____, ____, cv=____)\n",
    "\n",
    "# Fit the data to the model\n",
    "logreg_cv.____(____, ____)\n",
    "\n",
    "# Print the tuned parameters and score\n",
    "print(\"Tuned Logistic Regression Parameters: {}\".format(____.____))\n",
    "print(\"Tuned Logistic Regression Best Accuracy Score: {}\".format(____.____))"
   ]
  }
 ],
 "metadata": {
  "kernelspec": {
   "display_name": "ml25",
   "language": "python",
   "name": "python3"
  },
  "language_info": {
   "codemirror_mode": {
    "name": "ipython",
    "version": 3
   },
   "file_extension": ".py",
   "mimetype": "text/x-python",
   "name": "python",
   "nbconvert_exporter": "python",
   "pygments_lexer": "ipython3",
   "version": "3.11.13"
  }
 },
 "nbformat": 4,
 "nbformat_minor": 5
}
